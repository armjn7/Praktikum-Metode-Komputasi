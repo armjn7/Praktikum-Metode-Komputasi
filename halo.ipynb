{
 "cells": [
  {
   "cell_type": "markdown",
   "id": "accepting-guinea",
   "metadata": {},
   "source": [
    "# Program halo.py"
   ]
  },
  {
   "cell_type": "code",
   "execution_count": 2,
   "id": "f8c757fa",
   "metadata": {},
   "outputs": [
    {
     "name": "stdout",
     "output_type": "stream",
     "text": [
      "Program halo.py\n",
      "by ariefrifqy@mail.ugm.ac.id\n"
     ]
    }
   ],
   "source": [
    "print(\"Program halo.py\")\n",
    "print(\"by ariefrifqy@mail.ugm.ac.id\")"
   ]
  },
  {
   "cell_type": "code",
   "execution_count": 3,
   "id": "b2c2ca55",
   "metadata": {},
   "outputs": [
    {
     "name": "stdout",
     "output_type": "stream",
     "text": [
      "#|================================|\n",
      "#|                                |\n",
      "#|        Program halo.py         |\n",
      "#|  by ariefrifqy@mail.ugm.ac.id  |\n",
      "#|                                |\n",
      "#|================================|\n"
     ]
    }
   ],
   "source": [
    "\n",
    "print(\"#|================================|\")\n",
    "print(\"#|                                |\")\n",
    "print(\"#|        Program halo.py         |\")\n",
    "print(\"#|  by ariefrifqy@mail.ugm.ac.id  |\")\n",
    "print(\"#|                                |\")\n",
    "print(\"#|================================|\")\n"
   ]
  },
  {
   "cell_type": "code",
   "execution_count": null,
   "id": "583ff01e",
   "metadata": {},
   "outputs": [],
   "source": [
    "#|================================|\n",
    "#|                                |\n",
    "#|        Program halo.py         |\n",
    "#|  by ariefrifqy@mail.ugm.ac.id  |\n",
    "#|                                |\n",
    "#|================================|"
   ]
  }
 ],
 "metadata": {
  "kernelspec": {
   "display_name": "Python 3",
   "language": "python",
   "name": "python3"
  },
  "language_info": {
   "codemirror_mode": {
    "name": "ipython",
    "version": 3
   },
   "file_extension": ".py",
   "mimetype": "text/x-python",
   "name": "python",
   "nbconvert_exporter": "python",
   "pygments_lexer": "ipython3",
   "version": "3.7.10"
  }
 },
 "nbformat": 4,
 "nbformat_minor": 5
}
